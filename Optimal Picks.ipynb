{
 "cells": [
  {
   "cell_type": "markdown",
   "metadata": {},
   "source": [
    "Goal is to calculate optimal picks based on win probability, public pick probability, and number of players in pool. Idea would be: the more players in the pool, the riskier you have to be to increase probability of winning pool."
   ]
  },
  {
   "cell_type": "code",
   "execution_count": 3,
   "metadata": {},
   "outputs": [],
   "source": [
    "import pandas as pd\n",
    "import numpy as np\n",
    "import pickle"
   ]
  },
  {
   "cell_type": "code",
   "execution_count": 378,
   "metadata": {},
   "outputs": [],
   "source": [
    "#model = pickle.load(open('data/game_prediction_model.pickle', 'rb'))\n",
    "#team_cols = pickle.load(open('data/game_prediction_model_covariates.pickle', 'rb'))\n",
    "starting_teams = pickle.load(open('data/starting_teams.pickle', 'rb'))"
   ]
  },
  {
   "cell_type": "code",
   "execution_count": 380,
   "metadata": {},
   "outputs": [
    {
     "data": {
      "text/html": [
       "<div>\n",
       "<style scoped>\n",
       "    .dataframe tbody tr th:only-of-type {\n",
       "        vertical-align: middle;\n",
       "    }\n",
       "\n",
       "    .dataframe tbody tr th {\n",
       "        vertical-align: top;\n",
       "    }\n",
       "\n",
       "    .dataframe thead th {\n",
       "        text-align: right;\n",
       "    }\n",
       "</style>\n",
       "<table border=\"1\" class=\"dataframe\">\n",
       "  <thead>\n",
       "    <tr style=\"text-align: right;\">\n",
       "      <th></th>\n",
       "      <th>R1</th>\n",
       "      <th>R2</th>\n",
       "      <th>R3</th>\n",
       "      <th>R4</th>\n",
       "      <th>R5</th>\n",
       "      <th>R6</th>\n",
       "    </tr>\n",
       "  </thead>\n",
       "  <tbody>\n",
       "    <tr>\n",
       "      <th>0</th>\n",
       "      <td>0.78</td>\n",
       "      <td>0.61</td>\n",
       "      <td>0.36</td>\n",
       "      <td>0.23</td>\n",
       "      <td>0.13</td>\n",
       "      <td>0.06</td>\n",
       "    </tr>\n",
       "    <tr>\n",
       "      <th>1</th>\n",
       "      <td>0.22</td>\n",
       "      <td>0.02</td>\n",
       "      <td>0.00</td>\n",
       "      <td>0.00</td>\n",
       "      <td>0.00</td>\n",
       "      <td>0.00</td>\n",
       "    </tr>\n",
       "    <tr>\n",
       "      <th>2</th>\n",
       "      <td>0.44</td>\n",
       "      <td>0.15</td>\n",
       "      <td>0.03</td>\n",
       "      <td>0.02</td>\n",
       "      <td>0.00</td>\n",
       "      <td>0.00</td>\n",
       "    </tr>\n",
       "    <tr>\n",
       "      <th>3</th>\n",
       "      <td>0.56</td>\n",
       "      <td>0.22</td>\n",
       "      <td>0.07</td>\n",
       "      <td>0.03</td>\n",
       "      <td>0.01</td>\n",
       "      <td>0.00</td>\n",
       "    </tr>\n",
       "    <tr>\n",
       "      <th>4</th>\n",
       "      <td>0.71</td>\n",
       "      <td>0.42</td>\n",
       "      <td>0.21</td>\n",
       "      <td>0.07</td>\n",
       "      <td>0.02</td>\n",
       "      <td>0.01</td>\n",
       "    </tr>\n",
       "  </tbody>\n",
       "</table>\n",
       "</div>"
      ],
      "text/plain": [
       "     R1    R2    R3    R4    R5    R6\n",
       "0  0.78  0.61  0.36  0.23  0.13  0.06\n",
       "1  0.22  0.02  0.00  0.00  0.00  0.00\n",
       "2  0.44  0.15  0.03  0.02  0.00  0.00\n",
       "3  0.56  0.22  0.07  0.03  0.01  0.00\n",
       "4  0.71  0.42  0.21  0.07  0.02  0.01"
      ]
     },
     "execution_count": 380,
     "metadata": {},
     "output_type": "execute_result"
    }
   ],
   "source": [
    "df_predictions = pd.read_csv('data/2019_tourney_predictions.csv')\n",
    "df_predictions = df_predictions[['RoundOf32','SweetSixteen','EliteEight',\\\n",
    "                                'FinalFour','Championship','Champions']]\n",
    "df_predictions.columns = ['R1','R2','R3','R4','R5','R6']\n",
    "df_predictions.head()"
   ]
  },
  {
   "cell_type": "code",
   "execution_count": 343,
   "metadata": {},
   "outputs": [],
   "source": [
    "def _generate_bracket(df_predictions):\n",
    "    df_teams = df_predictions.copy(deep=True)\n",
    "    rounds = len(df_teams.columns)\n",
    "    df_teams = df_teams.cumsum()\n",
    "    df_bracket = pd.DataFrame(columns=df_teams.columns, index=df_teams.index)\n",
    "    df_bracket.fillna(0)\n",
    "    n_winners = 1\n",
    "    for r in range(rounds,0,-1):\n",
    "        cur_col = 'R'+str(r)\n",
    "        for w in range(n_winners):\n",
    "            start_i = df_teams.loc[df_teams[cur_col]>w].index[0]\n",
    "            try:\n",
    "                end_i = df_teams.loc[df_teams[cur_col]>w+1].index[0]-1\n",
    "            except IndexError:\n",
    "                end_i = len(df_teams.index)-1\n",
    "            if not df_bracket.loc[start_i:end_i, cur_col].max()==1:\n",
    "                rand = np.random.rand() + w\n",
    "                win_i = df_teams.loc[df_teams[cur_col]>=rand].index[0]\n",
    "                win_c = df_teams.columns.tolist().index(cur_col)\n",
    "                df_bracket.iloc[win_i, :win_c+1] = 1\n",
    "        n_winners = n_winners*2\n",
    "    df_bracket = df_bracket.fillna(0)\n",
    "        \n",
    "    return df_bracket"
   ]
  },
  {
   "cell_type": "code",
   "execution_count": 349,
   "metadata": {},
   "outputs": [],
   "source": [
    "def _generate_pool(df_public_picks, pool_size):\n",
    "    rounds = len(df_public_picks.columns)\n",
    "    df_public_picks = df_public_picks.cumsum()\n",
    "    pool = []\n",
    "    for i in range(pool_size-1):\n",
    "        df_pool = pd.DataFrame(columns=df_public_picks.columns, index=df_public_picks.index)\n",
    "        df_pool.fillna(0)\n",
    "        n_winners = 1\n",
    "        for r in range(rounds,0,-1):\n",
    "            cur_col = 'R'+str(r)\n",
    "            for w in range(n_winners):\n",
    "                start_i = df_public_picks.loc[df_public_picks[cur_col]>w].index[0]\n",
    "                try:\n",
    "                    end_i = df_public_picks.loc[df_public_picks[cur_col]>w+1].index[0]-1\n",
    "                except IndexError:\n",
    "                    end_i = len(df_public_picks.index)-1\n",
    "                if not df_pool.loc[start_i:end_i, cur_col].max()==1:\n",
    "                    rand = np.random.rand() + w\n",
    "                    win_i = df_public_picks.loc[df_public_picks[cur_col]>=rand].index[0]\n",
    "                    win_c = df_public_picks.columns.tolist().index(cur_col)\n",
    "                    df_pool.iloc[win_i, :win_c+1] = 1\n",
    "            n_winners = n_winners*2\n",
    "        df_pool = df_pool.fillna(0)\n",
    "        pool.append(df_pool)\n",
    "        \n",
    "    return pool"
   ]
  },
  {
   "cell_type": "code",
   "execution_count": 347,
   "metadata": {},
   "outputs": [],
   "source": [
    "def _win_pool_sim(reps, df_public_picks, df_picks, df_predictions, pool_size, rewards):\n",
    "    wins = 0.0\n",
    "    rewards = np.array(rewards)\n",
    "    for i in range(reps):\n",
    "        pool = [df_picks] + _generate_pool(df_public_picks, pool_size)\n",
    "        bracket = _generate_bracket(df_predictions)\n",
    "        winner_count = 0\n",
    "        cur_max = 0\n",
    "        for i, p in enumerate(pool):\n",
    "            correct_picks = p.multiply(bracket).sum().values\n",
    "            points = np.dot(rewards, correct_picks)\n",
    "            if points>cur_max:\n",
    "                winner_index = i\n",
    "                cur_max = points\n",
    "                winner_count = 1\n",
    "            elif points==cur_max:\n",
    "                winner_count += 1\n",
    "            else:\n",
    "                pass\n",
    "            \n",
    "        if winner_index==0:\n",
    "            wins += 1.0/winner_count\n",
    "        #print ('Number of winners: {0}'.format(str(winner_count)))\n",
    "        #print ('Winning points: {0}'.format(str(cur_max)))\n",
    "        #print ('Wins: {0}'.format(str(wins)))\n",
    "            \n",
    "    return wins/reps"
   ]
  },
  {
   "cell_type": "code",
   "execution_count": 372,
   "metadata": {},
   "outputs": [],
   "source": [
    "public_data = [\n",
    "    [0.6, 0.35, 0.24],\n",
    "    [0.4, 0.25, 0.23],\n",
    "    [0.75, 0.4, 0.23],\n",
    "    [0.25, 0.0, 0.0],\n",
    "    [0.9, 0.7, 0.25],\n",
    "    [0.1, 0.04, 0.01],\n",
    "    [0.85, 0.25, 0.04],\n",
    "    [0.15, 0.01, 0.0]\n",
    "]\n",
    "df_public_picks = pd.DataFrame(public_data, columns=['R1','R2','R3','R4','R5','R6'])\n",
    "picks_data = [\n",
    "    [0, 0, 0],\n",
    "    [1, 1, 1],\n",
    "    [1, 0, 0],\n",
    "    [0, 0, 0],\n",
    "    [1, 1, 0],\n",
    "    [0, 0, 0],\n",
    "    [1, 0, 0],\n",
    "    [0, 0, 0]\n",
    "]\n",
    "df_picks = pd.DataFrame(picks_data, columns=['R1','R2','R3','R4','R5','R6'])"
   ]
  },
  {
   "cell_type": "code",
   "execution_count": 373,
   "metadata": {},
   "outputs": [
    {
     "name": "stdout",
     "output_type": "stream",
     "text": [
      "Expected Win Rate: 8.33%\n",
      "Actual Win Rate: 11.58%\n"
     ]
    }
   ],
   "source": [
    "pool_size = 12\n",
    "win_pct = _win_pool_sim(10, df_public_picks, df_picks, df_predictions, pool_size, [1,2,4,8,16,32])\n",
    "print ('Expected Win Rate: {0}%'.format(str(round(100.0/pool_size,2))))\n",
    "print ('Actual Win Rate: {0}%'.format(str(round(100*win_pct,2))))"
   ]
  }
 ],
 "metadata": {
  "kernelspec": {
   "display_name": "Python 3",
   "language": "python",
   "name": "python3"
  },
  "language_info": {
   "codemirror_mode": {
    "name": "ipython",
    "version": 3
   },
   "file_extension": ".py",
   "mimetype": "text/x-python",
   "name": "python",
   "nbconvert_exporter": "python",
   "pygments_lexer": "ipython3",
   "version": "3.7.1"
  }
 },
 "nbformat": 4,
 "nbformat_minor": 2
}
